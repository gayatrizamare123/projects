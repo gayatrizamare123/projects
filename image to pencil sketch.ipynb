{
 "cells": [
  {
   "cell_type": "code",
   "execution_count": null,
   "id": "4618926e",
   "metadata": {},
   "outputs": [],
   "source": []
  },
  {
   "cell_type": "code",
   "execution_count": 15,
   "id": "706af9b2",
   "metadata": {},
   "outputs": [],
   "source": [
    "import cv2"
   ]
  },
  {
   "cell_type": "code",
   "execution_count": 16,
   "id": "4bfa2d59",
   "metadata": {},
   "outputs": [],
   "source": [
    "image=cv2.imread(\"gayatri.jpg\")"
   ]
  },
  {
   "cell_type": "code",
   "execution_count": null,
   "id": "d7b03e31",
   "metadata": {},
   "outputs": [],
   "source": [
    "cv2.imshow(\"gayu\",image)\n",
    "cv2.waitKey(0)"
   ]
  },
  {
   "cell_type": "code",
   "execution_count": null,
   "id": "d7d3e304",
   "metadata": {},
   "outputs": [],
   "source": [
    "import matplotlib.pyplot as plt\n",
    "%matplotlib inline\n",
    "img_rgb=cv2.cvtColor(image,cv2.COLOR_BGR2RGB)\n",
    "plt.imshow(img_rgb)\n"
   ]
  },
  {
   "cell_type": "code",
   "execution_count": null,
   "id": "baa61917",
   "metadata": {},
   "outputs": [],
   "source": [
    "gray_image=cv2.cvtColor(image,cv2.COLOR_BGR2GRAY)\n",
    "gray_image"
   ]
  },
  {
   "cell_type": "code",
   "execution_count": null,
   "id": "28f07169",
   "metadata": {},
   "outputs": [],
   "source": [
    "plt.imshow(gray_image)"
   ]
  },
  {
   "cell_type": "code",
   "execution_count": null,
   "id": "105f09ac",
   "metadata": {},
   "outputs": [],
   "source": [
    "inverted_image=255-gray_image\n",
    "plt.imshow(inverted_image)"
   ]
  },
  {
   "cell_type": "code",
   "execution_count": null,
   "id": "b75bc17d",
   "metadata": {},
   "outputs": [],
   "source": [
    "blurred=cv2.GaussianBlur(inverted_image,(21,21),0)\n",
    "plt.imshow(blurred)"
   ]
  },
  {
   "cell_type": "code",
   "execution_count": null,
   "id": "a3815f02",
   "metadata": {},
   "outputs": [],
   "source": [
    "inverted_blurred=255-blurred\n",
    "pencil_sketch=cv2.divide(gray_image,inverted_image,scale=256.0)\n",
    "plt.imshow(pencil_sketch)"
   ]
  },
  {
   "cell_type": "code",
   "execution_count": null,
   "id": "f8ddfc2c",
   "metadata": {},
   "outputs": [],
   "source": [
    "cv2.imshow(\"gayu sketch\",pencil_sketch)\n",
    "cv2.waitKey(0)"
   ]
  },
  {
   "cell_type": "code",
   "execution_count": null,
   "id": "7903fef2",
   "metadata": {},
   "outputs": [],
   "source": [
    "cv2.imshow(\"original image\",image)\n",
    "cv2.imshow(\"pencil sketch\",pencil_sketch)\n",
    "cv2.waitKey(0)"
   ]
  },
  {
   "cell_type": "code",
   "execution_count": null,
   "id": "18d701c9",
   "metadata": {},
   "outputs": [],
   "source": [
    "#THANK YOU"
   ]
  },
  {
   "cell_type": "code",
   "execution_count": null,
   "id": "4f46fff7",
   "metadata": {},
   "outputs": [],
   "source": []
  }
 ],
 "metadata": {
  "kernelspec": {
   "display_name": "Python 3",
   "language": "python",
   "name": "python3"
  },
  "language_info": {
   "codemirror_mode": {
    "name": "ipython",
    "version": 3
   },
   "file_extension": ".py",
   "mimetype": "text/x-python",
   "name": "python",
   "nbconvert_exporter": "python",
   "pygments_lexer": "ipython3",
   "version": "3.8.8"
  }
 },
 "nbformat": 4,
 "nbformat_minor": 5
}
